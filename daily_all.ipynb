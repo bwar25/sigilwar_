{
 "cells": [
  {
   "cell_type": "markdown",
   "id": "98d7f5a5",
   "metadata": {},
   "source": [
    "### Imports"
   ]
  },
  {
   "cell_type": "code",
   "execution_count": 146,
   "id": "2208e2bf",
   "metadata": {},
   "outputs": [],
   "source": [
    "import pandas as pd\n",
    "import numpy as np\n",
    "import matplotlib.pyplot as plt\n",
    "import seaborn as sns\n",
    "import plotly.graph_objects as go"
   ]
  },
  {
   "cell_type": "markdown",
   "id": "c3ca7d5a",
   "metadata": {},
   "source": [
    "### Grab Data"
   ]
  },
  {
   "cell_type": "code",
   "execution_count": 147,
   "id": "46f88700",
   "metadata": {},
   "outputs": [],
   "source": [
    "# Create a funtion that takes in a filepath and returns a dataframe\n",
    "def return_dataframe(filepath: str) -> pd.DataFrame:\n",
    "    \"\"\" Return a dataframe from a given filepath. \"\"\"\n",
    "    return pd.read_csv(filepath)"
   ]
  },
  {
   "cell_type": "code",
   "execution_count": 148,
   "id": "72622ab9",
   "metadata": {},
   "outputs": [],
   "source": [
    "# Run `return_dataframe()`\n",
    "\n",
    "# Agriculture: \n",
    "# (feeder cattle, lean hog, live cattle, corn, soybean oil, soybean meal, soybeans, wheat)\n",
    "# 8 total\n",
    "gf = return_dataframe(r'C:\\Users\\Brian\\Desktop\\PriceData\\Vault\\Day1\\GF_Day1.csv')\n",
    "he = return_dataframe(r'C:\\Users\\Brian\\Desktop\\PriceData\\Vault\\Day1\\HE_Day1.csv')\n",
    "le = return_dataframe(r'C:\\Users\\Brian\\Desktop\\PriceData\\Vault\\Day1\\LE_Day1.csv')\n",
    "zc = return_dataframe(r'C:\\Users\\Brian\\Desktop\\PriceData\\Vault\\Day1\\ZC_Day1.csv')\n",
    "zl = return_dataframe(r'C:\\Users\\Brian\\Desktop\\PriceData\\Vault\\Day1\\ZL_Day1.csv')\n",
    "zm = return_dataframe(r'C:\\Users\\Brian\\Desktop\\PriceData\\Vault\\Day1\\ZM_Day1.csv')\n",
    "zs = return_dataframe(r'C:\\Users\\Brian\\Desktop\\PriceData\\Vault\\Day1\\ZS_Day1.csv')\n",
    "zw = return_dataframe(r'C:\\Users\\Brian\\Desktop\\PriceData\\Vault\\Day1\\ZW_Day1.csv')\n",
    "\n",
    "# Bonds:\n",
    "# (schatz, bobl, bund, buxl, 2yr, 5yr, 10yr, ultra 10yr, 30yr, ultra 30yr)\n",
    "# 10 total\n",
    "fgbs = return_dataframe(r'C:\\Users\\Brian\\Desktop\\PriceData\\Vault\\Day1\\FGBS_Day1.csv')\n",
    "fgbm = return_dataframe(r'C:\\Users\\Brian\\Desktop\\PriceData\\Vault\\Day1\\FGBM_Day1.csv')\n",
    "fgbl = return_dataframe(r'C:\\Users\\Brian\\Desktop\\PriceData\\Vault\\Day1\\FGBL_Day1.csv')\n",
    "fgbx = return_dataframe(r'C:\\Users\\Brian\\Desktop\\PriceData\\Vault\\Day1\\FGBX_Day1.csv')\n",
    "zt = return_dataframe(r'C:\\Users\\Brian\\Desktop\\PriceData\\Vault\\Day1\\ZT_Day1.csv')\n",
    "zf = return_dataframe(r'C:\\Users\\Brian\\Desktop\\PriceData\\Vault\\Day1\\ZF_Day1.csv')\n",
    "zn = return_dataframe(r'C:\\Users\\Brian\\Desktop\\PriceData\\Vault\\Day1\\ZN_Day1.csv')\n",
    "tn = return_dataframe(r'C:\\Users\\Brian\\Desktop\\PriceData\\Vault\\Day1\\TN_Day1.csv')\n",
    "zb = return_dataframe(r'C:\\Users\\Brian\\Desktop\\PriceData\\Vault\\Day1\\ZB_Day1.csv')\n",
    "ub = return_dataframe(r'C:\\Users\\Brian\\Desktop\\PriceData\\Vault\\Day1\\UB_Day1.csv')\n",
    "\n",
    "# Crude:\n",
    "# (brent, wti light, heating oil, gasoline)\n",
    "# 4 total\n",
    "b = return_dataframe(r'C:\\Users\\Brian\\Desktop\\PriceData\\Vault\\Day1\\B_Day1.csv')\n",
    "cl = return_dataframe(r'C:\\Users\\Brian\\Desktop\\PriceData\\Vault\\Day1\\CL_Day1.csv')\n",
    "ho = return_dataframe(r'C:\\Users\\Brian\\Desktop\\PriceData\\Vault\\Day1\\HO_Day1.csv')\n",
    "rb = return_dataframe(r'C:\\Users\\Brian\\Desktop\\PriceData\\Vault\\Day1\\RB_Day1.csv')\n",
    "\n",
    "# Currencies:\n",
    "# (aussie, pound, canadian, euro, yen, peso, new zealand, franc, us)\n",
    "# 9 total\n",
    "six_a = return_dataframe(r'C:\\Users\\Brian\\Desktop\\PriceData\\Vault\\Day1\\6A_Day1.csv')\n",
    "six_b = return_dataframe(r'C:\\Users\\Brian\\Desktop\\PriceData\\Vault\\Day1\\6B_Day1.csv')\n",
    "six_c = return_dataframe(r'C:\\Users\\Brian\\Desktop\\PriceData\\Vault\\Day1\\6C_Day1.csv')\n",
    "six_e = return_dataframe(r'C:\\Users\\Brian\\Desktop\\PriceData\\Vault\\Day1\\6E_Day1.csv')\n",
    "six_j = return_dataframe(r'C:\\Users\\Brian\\Desktop\\PriceData\\Vault\\Day1\\6J_Day1.csv')\n",
    "six_m = return_dataframe(r'C:\\Users\\Brian\\Desktop\\PriceData\\Vault\\Day1\\6M_Day1.csv')\n",
    "six_n = return_dataframe(r'C:\\Users\\Brian\\Desktop\\PriceData\\Vault\\Day1\\6N_Day1.csv')\n",
    "six_s = return_dataframe(r'C:\\Users\\Brian\\Desktop\\PriceData\\Vault\\Day1\\6S_Day1.csv')\n",
    "dx = return_dataframe(r'C:\\Users\\Brian\\Desktop\\PriceData\\Vault\\Day1\\DX_Day1.csv')\n",
    "\n",
    "# Equity Index:\n",
    "# (dax, euro stoxx, s&p, nasdaq, russel, dow)\n",
    "# 6 total\n",
    "fdax = return_dataframe(r'C:\\Users\\Brian\\Desktop\\PriceData\\Vault\\Day1\\FDAX_Day1.csv')\n",
    "fesx = return_dataframe(r'C:\\Users\\Brian\\Desktop\\PriceData\\Vault\\Day1\\FESX_Day1.csv')\n",
    "es = return_dataframe(r'C:\\Users\\Brian\\Desktop\\PriceData\\Vault\\Day1\\ES_Day1.csv')\n",
    "nq = return_dataframe(r'C:\\Users\\Brian\\Desktop\\PriceData\\Vault\\Day1\\NQ_Day1.csv')\n",
    "rty = return_dataframe(r'C:\\Users\\Brian\\Desktop\\PriceData\\Vault\\Day1\\RTY_Day1.csv')\n",
    "ym = return_dataframe(r'C:\\Users\\Brian\\Desktop\\PriceData\\Vault\\Day1\\YM_Day1.csv')\n",
    "\n",
    "# Metals:\n",
    "# (gold, copper, silver)\n",
    "# 3 total\n",
    "gc = return_dataframe(r'C:\\Users\\Brian\\Desktop\\PriceData\\Vault\\Day1\\GC_Day1.csv')\n",
    "hg = return_dataframe(r'C:\\Users\\Brian\\Desktop\\PriceData\\Vault\\Day1\\HG_Day1.csv')\n",
    "si = return_dataframe(r'C:\\Users\\Brian\\Desktop\\PriceData\\Vault\\Day1\\SI_Day1.csv')\n",
    "\n",
    "# Natural Gas\n",
    "# (natural gas)\n",
    "# 1 total\n",
    "ng = return_dataframe(r'C:\\Users\\Brian\\Desktop\\PriceData\\Vault\\Day1\\NG_Day1.csv')\n",
    "\n",
    "# Total instruments: 41"
   ]
  },
  {
   "cell_type": "code",
   "execution_count": 149,
   "id": "74ee1cea",
   "metadata": {},
   "outputs": [],
   "source": [
    "# group instruments into parent lists\n",
    "# group instruments into a top parent list\n",
    "agriculture = [gf, he, le, zc, zl, zm, zs, zw]\n",
    "bonds = [fgbs, fgbm, fgbl, fgbx, zt, zf, zn, tn, zb, ub]\n",
    "crude = [b, cl, ho, rb]\n",
    "currencies = [six_a, six_b, six_c, six_e, six_j, six_m, six_n, six_s, dx]\n",
    "equity_index = [fdax, fesx, es, nq, rty, ym]\n",
    "metals = [gc, hg, si]\n",
    "natural_gas = [ng]\n",
    "\n",
    "all_instruments = [agriculture, bonds, crude, currencies, equity_index, metals, natural_gas]"
   ]
  },
  {
   "cell_type": "markdown",
   "id": "3ab035cd",
   "metadata": {},
   "source": [
    "### EDA"
   ]
  },
  {
   "cell_type": "code",
   "execution_count": 150,
   "id": "ad24aa06",
   "metadata": {},
   "outputs": [],
   "source": [
    "# Create a funtion to check for nan values\n",
    "def check_nan(df: pd.DataFrame):\n",
    "    \"\"\" Check for NaN values. \"\"\"\n",
    "    if df.isnull().values.any():\n",
    "        print('There is missing data.')"
   ]
  },
  {
   "cell_type": "code",
   "execution_count": 151,
   "id": "96da2470",
   "metadata": {},
   "outputs": [],
   "source": [
    "# Run `check_nan()`\n",
    "for group in all_instruments:\n",
    "    for df in group:\n",
    "        check_nan(df)"
   ]
  },
  {
   "cell_type": "code",
   "execution_count": 152,
   "id": "42730e13",
   "metadata": {},
   "outputs": [],
   "source": [
    "# Create a function to remove m/s/ms from 'Time' and change 'Time' from an *object* to a *timeseries*\n",
    "def time_object_to_timeseries(df: pd.DataFrame) -> pd.DataFrame:\n",
    "    \"\"\" Remove M/S/MS from 'Time' and convert into datetime. \"\"\"\n",
    "    df['Time'] = [x[:-11] for x in df['Time']]\n",
    "    df['Time'] = pd.to_datetime(df['Time'])\n",
    "    \n",
    "    return df"
   ]
  },
  {
   "cell_type": "code",
   "execution_count": 153,
   "id": "fb341e07",
   "metadata": {},
   "outputs": [],
   "source": [
    "# Run `time_object_to_timeseries()`\n",
    "for group in all_instruments:\n",
    "    for df in group:\n",
    "        time_object_to_timeseries(df)"
   ]
  },
  {
   "cell_type": "markdown",
   "id": "f3f33f7a",
   "metadata": {},
   "source": [
    "### Visualize"
   ]
  },
  {
   "cell_type": "code",
   "execution_count": 154,
   "id": "819ca316",
   "metadata": {},
   "outputs": [],
   "source": [
    "# Checking all charts for jumps in data\n",
    "# If there are jumps, remove data (typically it only happens early on)"
   ]
  },
  {
   "cell_type": "code",
   "execution_count": 155,
   "id": "ea9b2551",
   "metadata": {},
   "outputs": [],
   "source": [
    "# Create function to plot dataframes as candlestick charts\n",
    "def plot_candlestick_chart(df: pd.DataFrame, instrument: str) -> plotly.graph_objs._figure.Figure:\n",
    "    fig = go.Figure(data=[go.Candlestick(x=df['Time'],\n",
    "                                         open=df['Open'],\n",
    "                                         high=df['High'],\n",
    "                                         low=df['Low'],\n",
    "                                         close=df['Close'],\n",
    "                                         increasing_line_color='steelblue', \n",
    "                                         decreasing_line_color='steelblue')])\n",
    "\n",
    "    fig.update_layout(xaxis_rangeslider_visible=False, \n",
    "                      title=instrument, title_x=0.5,\n",
    "                      yaxis_title='Price',\n",
    "                      xaxis_title='Time',\n",
    "                      template='plotly_dark')\n",
    "\n",
    "    # fig.show() to view\n",
    "    return fig "
   ]
  },
  {
   "cell_type": "code",
   "execution_count": 156,
   "id": "2b7559ff",
   "metadata": {},
   "outputs": [],
   "source": [
    "# Create chart for all instruments\n",
    "\n",
    "# Agriculture\n",
    "gf_chart = plot_candlestick_chart(gf, 'GF')\n",
    "he_chart = plot_candlestick_chart(he, 'HE')\n",
    "le_chart = plot_candlestick_chart(le, 'LE')\n",
    "zc_chart = plot_candlestick_chart(zc, 'ZC')\n",
    "zl_chart = plot_candlestick_chart(zl, 'ZL')\n",
    "zm_chart = plot_candlestick_chart(zm, 'ZM')\n",
    "zs_chart = plot_candlestick_chart(zs, 'ZS')\n",
    "zw_chart = plot_candlestick_chart(zw, 'ZW')\n",
    "\n",
    "# Bonds\n",
    "fgbs_chart = plot_candlestick_chart(fgbs, 'FGBS')\n",
    "fgbm_chart = plot_candlestick_chart(fgbm, 'FGBM')\n",
    "fgbl_chart = plot_candlestick_chart(fgbl, 'FGBL')\n",
    "fgbx_chart = plot_candlestick_chart(fgbx, 'FGBX')\n",
    "zt_chart = plot_candlestick_chart(zt, 'ZT')\n",
    "zf_chart = plot_candlestick_chart(zf, 'ZF')\n",
    "zn_chart = plot_candlestick_chart(zn, 'ZN')\n",
    "tn_chart = plot_candlestick_chart(tn, 'TN')\n",
    "zb_chart = plot_candlestick_chart(zb, 'ZB')\n",
    "ub_chart = plot_candlestick_chart(ub, 'UB')\n",
    "\n",
    "# Crude\n",
    "b_chart = plot_candlestick_chart(b, 'B')\n",
    "cl_chart = plot_candlestick_chart(cl, 'CL')\n",
    "ho_chart = plot_candlestick_chart(ho, 'HO')\n",
    "rb_chart = plot_candlestick_chart(rb, 'RB')\n",
    "\n",
    "# Currencies\n",
    "six_a_chart = plot_candlestick_chart(six_a, '6A')\n",
    "six_b_chart = plot_candlestick_chart(six_b, '6B')\n",
    "six_c_chart = plot_candlestick_chart(six_c, '6C')\n",
    "six_e_chart = plot_candlestick_chart(six_e, '6E')\n",
    "six_j_chart = plot_candlestick_chart(six_j, '6J')\n",
    "six_m_chart = plot_candlestick_chart(six_m, '6M')\n",
    "six_n_chart = plot_candlestick_chart(six_n, '6N')\n",
    "six_s_chart = plot_candlestick_chart(six_s, '6S')\n",
    "dx_chart = plot_candlestick_chart(dx, 'DX')\n",
    "\n",
    "# Equity Index\n",
    "fdax_chart = plot_candlestick_chart(fdax, 'FDAX')\n",
    "fesx_chart = plot_candlestick_chart(fesx, 'FESX')\n",
    "es_chart = plot_candlestick_chart(es, 'ES')\n",
    "nq_chart = plot_candlestick_chart(nq, 'NQ')\n",
    "rty_chart = plot_candlestick_chart(rty, 'RTY')\n",
    "ym_chart = plot_candlestick_chart(ym, 'YM')\n",
    "\n",
    "\n",
    "# Metals\n",
    "gc_chart = plot_candlestick_chart(gc, 'GC')\n",
    "hg_chart = plot_candlestick_chart(hg, 'HG')\n",
    "si_chart = plot_candlestick_chart(si, 'SI')\n",
    "\n",
    "# Natural Gas\n",
    "ng_chart = plot_candlestick_chart(ng, 'NG')"
   ]
  },
  {
   "cell_type": "code",
   "execution_count": 158,
   "id": "783dbfc2",
   "metadata": {},
   "outputs": [],
   "source": [
    "# Testing each individually, not going to store all charts\n",
    "\n",
    "# Charts that are missing data:\n",
    "    # zc\n",
    "    # zl\n",
    "    # zm\n",
    "    # zs\n",
    "    # zw\n",
    "    # rb\n",
    "    # gc\n",
    "    # si\n",
    "    \n",
    "# Charts that have erroneous data\n",
    "    # zb\n",
    "    # fdax\n",
    "    # fesx\n",
    "\n",
    "# Charts that are missing data and have erroneous data\n",
    "    # fgbs\n",
    "    # fgbm\n",
    "    # fgbl\n",
    "    # fgbx"
   ]
  },
  {
   "cell_type": "markdown",
   "id": "a5cfeb79",
   "metadata": {},
   "source": [
    "### Cleansing"
   ]
  },
  {
   "cell_type": "code",
   "execution_count": 230,
   "id": "9493b4f3",
   "metadata": {},
   "outputs": [],
   "source": [
    "# zc: remove all data prior to - nov 11 2009\n",
    "# zl: remove all data prior to - nov 11 2009\n",
    "# zm: remove all data prior to - nov 11 2009\n",
    "# zs: remove all data prior to - oct 12 2009\n",
    "# zw: remove all data prior to - nov 11 2009\n",
    "# rb: remove all data prior to - jun 23 2014\n",
    "# gc: remove all data prior to - oct 13 2009\n",
    "# si: remove all data prior to - oct 7 2009\n",
    "# zb: remove all data prior to - aug 31 2009\n",
    "# fdax: remove all data prior to - dec 31 2010\n",
    "# fesx: remove all data prior to - mar 7 2011\n",
    "# fgbs: remove all data prior to - dec 31 2010, \n",
    "        # on (oct 1 2021, change low/close to open/high)\n",
    "# fgbm: remove all data prior to - dec 31 2010, \n",
    "        # on (oct 13 2017, change low to open), \n",
    "        # on (oct 1 2021, change high/close to open)\n",
    "# fgbl: remove all data prior to - dec 31 2010\n",
    "# fgbx: remove all data prior to - oct 19 2015,\n",
    "        # on (apr 14 2021, change low/close to open), \n",
    "        # on (oct 1 2021, change low/close to open)\n",
    "        \n",
    "# Going to create 1 function and manually fix the others\n",
    "    # 'date' parameter which removes all data prior to date\n",
    "        # [zc, zl, zm, zs, zw, rb, gc, si, zb, fdax, fesx, fgbl]\n",
    "        # others = [fgbs, fgbm, fgbx]"
   ]
  },
  {
   "cell_type": "code",
   "execution_count": 235,
   "id": "40cf1ac7",
   "metadata": {},
   "outputs": [],
   "source": [
    "# Create a function to remove data prior to a certain date\n",
    "def start_chart_from_date(df: pd.DataFrame, date: str) -> pd.DataFrame:\n",
    "    \"\"\" Start a chart of price data from a certain date. \"\"\"\n",
    "    df = df[~(df['Time'] < date)]\n",
    "    return df"
   ]
  },
  {
   "cell_type": "code",
   "execution_count": 242,
   "id": "395a9058",
   "metadata": {},
   "outputs": [],
   "source": [
    "# zc = start_chart_from_date(zc, '2009-11-11')\n",
    "# zl = start_chart_from_date(zl, '2009-11-11')\n",
    "# zm = start_chart_from_date(zm, '2009-11-11')\n",
    "# zs = start_chart_from_date(zs, '2009-10-12')\n",
    "# zw = start_chart_from_date(zw, '2009-11-11')\n",
    "# rb = start_chart_from_date(rb, '2014-06-23')\n",
    "# gc = start_chart_from_date(gc, '2009-10-13')\n",
    "# si = start_chart_from_date(si, '2009-10-07')\n",
    "# zb = start_chart_from_date(zb, '2009-08-31')\n",
    "# fdax = start_chart_from_date(fdax, '2010-12-31')\n",
    "# fesx = start_chart_from_date(fesx, '2011-03-07')\n",
    "# fgbl = start_chart_from_date(fgbl, '2010-12-31')\n",
    "\n",
    "# fgbs = start_chart_from_date(fgbs, '2010-12-31')\n",
    "# fgbm = start_chart_from_date(fgbm, '2010-12-31')\n",
    "# fgbx = start_chart_from_date(fgbx, '2015-10-19')"
   ]
  },
  {
   "cell_type": "code",
   "execution_count": 284,
   "id": "756f0a6a",
   "metadata": {},
   "outputs": [],
   "source": [
    "# fgbs.loc[3143, 'Low'] = fgbs.loc[3143]['Open']\n",
    "# fgbs.loc[3143, 'Close'] = fgbs.loc[3143]['Open']\n",
    "\n",
    "# fgbm.loc[2136, 'Low'] = fgbm.loc[2136]['Open']\n",
    "# fgbm.loc[3143, 'High'] = fgbm.loc[3143]['Open']\n",
    "# fgbm.loc[3143, 'Close'] = fgbm.loc[3143]['Open']\n",
    "\n",
    "# fgbx.loc[1572, 'Low'] = fgbx.loc[1572]['Open']\n",
    "# fgbx.loc[1572, 'Close'] = fgbx.loc[1572]['Open']\n",
    "# fgbx.loc[1694, 'Low'] = fgbx.loc[1694]['Open']\n",
    "# fgbx.loc[1694, 'Close'] = fgbx.loc[1694]['Open']"
   ]
  },
  {
   "cell_type": "code",
   "execution_count": 285,
   "id": "9dc56268",
   "metadata": {},
   "outputs": [],
   "source": [
    "# Reset charts of the instruments that were fixed\n",
    "\n",
    "# Agriculture (fixes)\n",
    "zc_chart = plot_candlestick_chart(zc, 'ZC')\n",
    "zl_chart = plot_candlestick_chart(zl, 'ZL')\n",
    "zm_chart = plot_candlestick_chart(zm, 'ZM')\n",
    "zs_chart = plot_candlestick_chart(zs, 'ZS')\n",
    "zw_chart = plot_candlestick_chart(zw, 'ZW')\n",
    "\n",
    "# Bonds (fixes)\n",
    "fgbs_chart = plot_candlestick_chart(fgbs, 'FGBS')\n",
    "fgbm_chart = plot_candlestick_chart(fgbm, 'FGBM')\n",
    "fgbl_chart = plot_candlestick_chart(fgbl, 'FGBL')\n",
    "fgbx_chart = plot_candlestick_chart(fgbx, 'FGBX')\n",
    "\n",
    "# Crude\n",
    "rb_chart = plot_candlestick_chart(rb, 'RB')\n",
    "\n",
    "# Equity Index (fixes)\n",
    "fdax_chart = plot_candlestick_chart(fdax, 'FDAX')\n",
    "fesx_chart = plot_candlestick_chart(fesx, 'FESX')\n",
    "zb_chart = plot_candlestick_chart(zb, 'ZB')\n",
    "\n",
    "# Metals (fixes)\n",
    "gc_chart = plot_candlestick_chart(gc, 'GC')\n",
    "si_chart = plot_candlestick_chart(si, 'SI')"
   ]
  },
  {
   "cell_type": "markdown",
   "id": "b6001348",
   "metadata": {},
   "source": [
    "### ..."
   ]
  },
  {
   "cell_type": "code",
   "execution_count": null,
   "id": "5e97caad",
   "metadata": {},
   "outputs": [],
   "source": []
  }
 ],
 "metadata": {
  "kernelspec": {
   "display_name": "venvtrading",
   "language": "python",
   "name": "venvtrading"
  },
  "language_info": {
   "codemirror_mode": {
    "name": "ipython",
    "version": 3
   },
   "file_extension": ".py",
   "mimetype": "text/x-python",
   "name": "python",
   "nbconvert_exporter": "python",
   "pygments_lexer": "ipython3",
   "version": "3.11.0"
  }
 },
 "nbformat": 4,
 "nbformat_minor": 5
}
